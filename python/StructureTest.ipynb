{
 "cells": [
  {
   "cell_type": "code",
   "execution_count": 1,
   "metadata": {},
   "outputs": [],
   "source": [
    "#\n",
    "# Compile the Structure.proto file from it's base directory via: protoc --python_out=python Structure.proto\n",
    "#\n",
    "# This will create two files:\n",
    "# 1. python/Structure_pb2.py and\n",
    "# 2. python/external/timestamp_pb2.py\n",
    "# \n",
    "# Suppose the Notebook is located at the same 'python' directory as the Structure_pb2.py file the following should work\n",
    "#\n",
    "\n",
    "from Structure_pb2 import Origin, CompositeKey, Country\n",
    "from external.timestamp_pb2 import Timestamp"
   ]
  },
  {
   "cell_type": "code",
   "execution_count": 2,
   "metadata": {},
   "outputs": [],
   "source": [
    "# create the Origin required for the CompositeKey\n",
    "origin = Origin()\n",
    "origin.origin_id = Origin.FACEBOOK\n",
    "origin.name = \"Facebook\""
   ]
  },
  {
   "cell_type": "code",
   "execution_count": 3,
   "metadata": {},
   "outputs": [],
   "source": [
    "# create the CompositeKey\n",
    "c_key = CompositeKey()\n",
    "c_key.origin.CopyFrom(origin)\n",
    "c_key.id = \"f.1234\""
   ]
  },
  {
   "cell_type": "code",
   "execution_count": 4,
   "metadata": {},
   "outputs": [],
   "source": [
    "# create the country\n",
    "c = Country()\n",
    "c.country_pkey.CopyFrom(c_key)\n",
    "c.name = \"Germany\"\n",
    "c.url = \"<...>/germany.html\""
   ]
  },
  {
   "cell_type": "code",
   "execution_count": 5,
   "metadata": {},
   "outputs": [],
   "source": [
    "b_rep = c.SerializeToString()\n",
    "b_rep_size = c.ByteSize()"
   ]
  },
  {
   "cell_type": "code",
   "execution_count": 6,
   "metadata": {},
   "outputs": [],
   "source": [
    "c2 = Country()\n",
    "c2.ParseFromString(b_rep)"
   ]
  },
  {
   "cell_type": "code",
   "execution_count": 7,
   "metadata": {
    "scrolled": true
   },
   "outputs": [
    {
     "data": {
      "text/plain": [
       "country_pkey {\n",
       "  origin {\n",
       "    origin_id: FACEBOOK\n",
       "    name: \"Facebook\"\n",
       "  }\n",
       "  id: \"f.1234\"\n",
       "}\n",
       "name: \"Germany\"\n",
       "url: \"<...>/germany.html\""
      ]
     },
     "execution_count": 7,
     "metadata": {},
     "output_type": "execute_result"
    }
   ],
   "source": [
    "c"
   ]
  },
  {
   "cell_type": "code",
   "execution_count": 8,
   "metadata": {},
   "outputs": [
    {
     "data": {
      "text/plain": [
       "b'\\n\\x16\\n\\x0c\\x08\\x04\\x12\\x08Facebook\\x12\\x06f.1234\\x12\\x07Germany\\x1a\\x12<...>/germany.html'"
      ]
     },
     "execution_count": 8,
     "metadata": {},
     "output_type": "execute_result"
    }
   ],
   "source": [
    "b_rep"
   ]
  },
  {
   "cell_type": "code",
   "execution_count": 9,
   "metadata": {},
   "outputs": [
    {
     "data": {
      "text/plain": [
       "country_pkey {\n",
       "  origin {\n",
       "    origin_id: FACEBOOK\n",
       "    name: \"Facebook\"\n",
       "  }\n",
       "  id: \"f.1234\"\n",
       "}\n",
       "name: \"Germany\"\n",
       "url: \"<...>/germany.html\""
      ]
     },
     "execution_count": 9,
     "metadata": {},
     "output_type": "execute_result"
    }
   ],
   "source": [
    "c2"
   ]
  }
 ],
 "metadata": {
  "kernelspec": {
   "display_name": "Python 3",
   "language": "python",
   "name": "python3"
  },
  "language_info": {
   "codemirror_mode": {
    "name": "ipython",
    "version": 3
   },
   "file_extension": ".py",
   "mimetype": "text/x-python",
   "name": "python",
   "nbconvert_exporter": "python",
   "pygments_lexer": "ipython3",
   "version": "3.6.5"
  }
 },
 "nbformat": 4,
 "nbformat_minor": 2
}
